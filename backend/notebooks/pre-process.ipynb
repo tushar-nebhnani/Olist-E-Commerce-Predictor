{
 "cells": [
  {
   "cell_type": "markdown",
   "id": "92bbdc46",
   "metadata": {},
   "source": [
    "### Brazilian E-Commerce Public Dataset by Olist\n",
    "This is a Brazilian ecommerce public dataset of orders made at Olist Store. The dataset has information of 100k orders from 2016 to 2018 made at multiple marketplaces in Brazil. Its features allows viewing an order from multiple dimensions: from order status, price, payment and freight performance to customer location, product attributes and finally reviews written by customers. We also released a geolocation dataset that relates Brazilian zip codes to lat/lng coordinates."
   ]
  },
  {
   "cell_type": "markdown",
   "id": "59e252f0",
   "metadata": {},
   "source": [
    "The code in the following cell downloads the dataset from Kagglehub and lists the files in the downloaded directory."
   ]
  },
  {
   "cell_type": "code",
   "execution_count": 104,
   "id": "9d25f076",
   "metadata": {},
   "outputs": [
    {
     "name": "stdout",
     "output_type": "stream",
     "text": [
      "olist_customers_dataset.csv\n",
      "olist_geolocation_dataset.csv\n",
      "olist_orders_dataset.csv\n",
      "olist_order_items_dataset.csv\n",
      "olist_order_payments_dataset.csv\n",
      "olist_order_reviews_dataset.csv\n",
      "olist_products_dataset.csv\n",
      "olist_sellers_dataset.csv\n",
      "product_category_name_translation.csv\n"
     ]
    }
   ],
   "source": [
    "import kagglehub\n",
    "import os\n",
    "import pandas as pd\n",
    "import matplotlib.pyplot as plt\n",
    "import numpy as np\n",
    "import seaborn as sns\n",
    "import plotly.express as px\n",
    "\n",
    "# Download the latest version of the dataset\n",
    "path = kagglehub.dataset_download(\"olistbr/brazilian-ecommerce\")\n",
    "\n",
    "# List the files in the downloaded directory\n",
    "file_list = os.listdir(path)\n",
    "for file_name in file_list:\n",
    "    print(file_name)"
   ]
  },
  {
   "cell_type": "code",
   "execution_count": 105,
   "id": "1c66599e",
   "metadata": {},
   "outputs": [],
   "source": [
    "def detect_and_plot_outliers_iqr(df, column, exclude_zero=False):\n",
    "    \"\"\"\n",
    "    Detects outliers using the IQR method, prints outlier information, and plots a box plot.\n",
    "\n",
    "    Args:\n",
    "        df (pd.DataFrame): The input DataFrame.\n",
    "        column (str): The name of the column to analyze for outliers.\n",
    "        exclude_zero (bool): Whether to exclude zero values from outlier calculation.\n",
    "                             Useful for columns where zero is a meaningful non-outlier value.\n",
    "    \"\"\"\n",
    "    print(f\"\\n--- Outlier Analysis for column: {column} ---\")\n",
    "\n",
    "    # Create box plot\n",
    "    plt.figure(figsize=(8, 4))\n",
    "    sns.boxplot(y=df[column])\n",
    "    plt.title(f'Box plot of {column}')\n",
    "    plt.ylabel(column)\n",
    "    plt.show()\n",
    "\n",
    "    # Calculate IQR and identify outliers\n",
    "    if exclude_zero:\n",
    "        # Consider only non-zero values for IQR calculation\n",
    "        data_for_iqr = df[df[column] != 0][column]\n",
    "    else:\n",
    "        data_for_iqr = df[column]\n",
    "\n",
    "    if data_for_iqr.empty:\n",
    "        print(f\"  No non-zero data in column '{column}' to calculate outliers.\")\n",
    "        return\n",
    "\n",
    "    Q1 = data_for_iqr.quantile(0.25)\n",
    "    Q3 = data_for_iqr.quantile(0.75)\n",
    "    IQR = Q3 - Q1\n",
    "\n",
    "    lower_bound = Q1 - 1.5 * IQR\n",
    "    upper_bound = Q3 + 1.5 * IQR\n",
    "\n",
    "    # Identify outliers in the original DataFrame\n",
    "    outliers = df[(df[column] < lower_bound) | (df[column] > upper_bound)]\n",
    "\n",
    "    num_outliers = len(outliers)\n",
    "    percentage_outliers = (num_outliers / len(df)) * 100\n",
    "\n",
    "    print(f\"  Number of outliers: {num_outliers}\")\n",
    "    print(f\"  Percentage of outliers: {percentage_outliers:.2f}%\")\n",
    "    print(f\"  Lower bound (IQR): {lower_bound:.2f}\")\n",
    "    print(f\"  Upper bound (IQR): {upper_bound:.2f}\")\n",
    "\n",
    "    if num_outliers > 0 and num_outliers < 20: # Display if not too many outliers\n",
    "        print(\"\\nSample Outlier Rows:\")\n",
    "        display(outliers.head())"
   ]
  },
  {
   "cell_type": "markdown",
   "id": "a5157b26",
   "metadata": {},
   "source": [
    "### Processing the `olist_customers_dataset.csv`, this includes checking for null/missing values, ensuring all datatypes are correctly assigned to the columns, checking for duplicate values and checking for outliers."
   ]
  },
  {
   "cell_type": "code",
   "execution_count": 106,
   "id": "215fbf52",
   "metadata": {},
   "outputs": [
    {
     "data": {
      "text/html": [
       "<div>\n",
       "<style scoped>\n",
       "    .dataframe tbody tr th:only-of-type {\n",
       "        vertical-align: middle;\n",
       "    }\n",
       "\n",
       "    .dataframe tbody tr th {\n",
       "        vertical-align: top;\n",
       "    }\n",
       "\n",
       "    .dataframe thead th {\n",
       "        text-align: right;\n",
       "    }\n",
       "</style>\n",
       "<table border=\"1\" class=\"dataframe\">\n",
       "  <thead>\n",
       "    <tr style=\"text-align: right;\">\n",
       "      <th></th>\n",
       "      <th>customer_id</th>\n",
       "      <th>customer_unique_id</th>\n",
       "      <th>customer_zip_code_prefix</th>\n",
       "      <th>customer_city</th>\n",
       "      <th>customer_state</th>\n",
       "    </tr>\n",
       "  </thead>\n",
       "  <tbody>\n",
       "    <tr>\n",
       "      <th>0</th>\n",
       "      <td>06b8999e2fba1a1fbc88172c00ba8bc7</td>\n",
       "      <td>861eff4711a542e4b93843c6dd7febb0</td>\n",
       "      <td>14409</td>\n",
       "      <td>franca</td>\n",
       "      <td>SP</td>\n",
       "    </tr>\n",
       "    <tr>\n",
       "      <th>1</th>\n",
       "      <td>18955e83d337fd6b2def6b18a428ac77</td>\n",
       "      <td>290c77bc529b7ac935b93aa66c333dc3</td>\n",
       "      <td>9790</td>\n",
       "      <td>sao bernardo do campo</td>\n",
       "      <td>SP</td>\n",
       "    </tr>\n",
       "    <tr>\n",
       "      <th>2</th>\n",
       "      <td>4e7b3e00288586ebd08712fdd0374a03</td>\n",
       "      <td>060e732b5b29e8181a18229c7b0b2b5e</td>\n",
       "      <td>1151</td>\n",
       "      <td>sao paulo</td>\n",
       "      <td>SP</td>\n",
       "    </tr>\n",
       "    <tr>\n",
       "      <th>3</th>\n",
       "      <td>b2b6027bc5c5109e529d4dc6358b12c3</td>\n",
       "      <td>259dac757896d24d7702b9acbbff3f3c</td>\n",
       "      <td>8775</td>\n",
       "      <td>mogi das cruzes</td>\n",
       "      <td>SP</td>\n",
       "    </tr>\n",
       "    <tr>\n",
       "      <th>4</th>\n",
       "      <td>4f2d8ab171c80ec8364f7c12e35b23ad</td>\n",
       "      <td>345ecd01c38d18a9036ed96c73b8d066</td>\n",
       "      <td>13056</td>\n",
       "      <td>campinas</td>\n",
       "      <td>SP</td>\n",
       "    </tr>\n",
       "  </tbody>\n",
       "</table>\n",
       "</div>"
      ],
      "text/plain": [
       "                        customer_id                customer_unique_id  \\\n",
       "0  06b8999e2fba1a1fbc88172c00ba8bc7  861eff4711a542e4b93843c6dd7febb0   \n",
       "1  18955e83d337fd6b2def6b18a428ac77  290c77bc529b7ac935b93aa66c333dc3   \n",
       "2  4e7b3e00288586ebd08712fdd0374a03  060e732b5b29e8181a18229c7b0b2b5e   \n",
       "3  b2b6027bc5c5109e529d4dc6358b12c3  259dac757896d24d7702b9acbbff3f3c   \n",
       "4  4f2d8ab171c80ec8364f7c12e35b23ad  345ecd01c38d18a9036ed96c73b8d066   \n",
       "\n",
       "   customer_zip_code_prefix          customer_city customer_state  \n",
       "0                     14409                 franca             SP  \n",
       "1                      9790  sao bernardo do campo             SP  \n",
       "2                      1151              sao paulo             SP  \n",
       "3                      8775        mogi das cruzes             SP  \n",
       "4                     13056               campinas             SP  "
      ]
     },
     "execution_count": 106,
     "metadata": {},
     "output_type": "execute_result"
    }
   ],
   "source": [
    "# Load the customers dataset\n",
    "customers_dataset_path = os.path.join(path, \"olist_customers_dataset.csv\")\n",
    "customers_df = pd.read_csv(customers_dataset_path)\n",
    "\n",
    "# Display the first few rows of the DataFrame\n",
    "customers_df.head()"
   ]
  },
  {
   "cell_type": "code",
   "execution_count": 107,
   "id": "6ede44fa",
   "metadata": {},
   "outputs": [
    {
     "name": "stdout",
     "output_type": "stream",
     "text": [
      "<class 'pandas.core.frame.DataFrame'>\n",
      "RangeIndex: 99441 entries, 0 to 99440\n",
      "Data columns (total 5 columns):\n",
      " #   Column                    Non-Null Count  Dtype \n",
      "---  ------                    --------------  ----- \n",
      " 0   customer_id               99441 non-null  object\n",
      " 1   customer_unique_id        99441 non-null  object\n",
      " 2   customer_zip_code_prefix  99441 non-null  int64 \n",
      " 3   customer_city             99441 non-null  object\n",
      " 4   customer_state            99441 non-null  object\n",
      "dtypes: int64(1), object(4)\n",
      "memory usage: 3.8+ MB\n",
      "None\n",
      "\n",
      "Missing values in customers_df:\n",
      "customer_id                 0\n",
      "customer_unique_id          0\n",
      "customer_zip_code_prefix    0\n",
      "customer_city               0\n",
      "customer_state              0\n",
      "dtype: int64\n"
     ]
    }
   ],
   "source": [
    "# Get information about the customers_df DataFrame\n",
    "print(customers_df.info())\n",
    "\n",
    "# Display missing values information\n",
    "print(\"\\nMissing values in customers_df:\")\n",
    "print(customers_df.isnull().sum())"
   ]
  },
  {
   "cell_type": "code",
   "execution_count": 108,
   "id": "cbc92ec1",
   "metadata": {},
   "outputs": [
    {
     "name": "stdout",
     "output_type": "stream",
     "text": [
      "Duplicated values in customer_df: 0\n",
      "Duplicated values in customer_df['customer_id']: 0\n"
     ]
    }
   ],
   "source": [
    "# Checking for duplicated values\n",
    "print(f\"Duplicated values in customer_df: {customers_df.duplicated().sum()}\")\n",
    "print(f\"Duplicated values in customer_df['customer_id']: {customers_df['customer_id'].duplicated().sum()}\")"
   ]
  },
  {
   "cell_type": "code",
   "execution_count": 109,
   "id": "98559193",
   "metadata": {},
   "outputs": [
    {
     "name": "stdout",
     "output_type": "stream",
     "text": [
      "Numerical columns in customers_df: Index(['customer_zip_code_prefix'], dtype='object')\n",
      "\n",
      "--- Outlier Analysis for column: customer_zip_code_prefix ---\n"
     ]
    },
    {
     "data": {
      "image/png": "[encoded data removed]",
      "text/plain": [
       "<Figure size 800x400 with 1 Axes>"
      ]
     },
     "metadata": {},
     "output_type": "display_data"
    },
    {
     "name": "stdout",
     "output_type": "stream",
     "text": [
      "  Number of outliers: 0\n",
      "  Percentage of outliers: 0.00%\n",
      "  Lower bound (IQR): -59982.50\n",
      "  Upper bound (IQR): 130229.50\n"
     ]
    }
   ],
   "source": [
    "# Identify numerical columns in customers_df\n",
    "numerical_cols_customers = customers_df.select_dtypes(include=np.number).columns\n",
    "\n",
    "print(\"Numerical columns in customers_df:\", numerical_cols_customers)\n",
    "\n",
    "# Apply outlier detection and plotting for each numerical column\n",
    "for col in numerical_cols_customers:\n",
    "    detect_and_plot_outliers_iqr(customers_df, col)"
   ]
  },
  {
   "cell_type": "code",
   "execution_count": 110,
   "id": "6f43dc66",
   "metadata": {},
   "outputs": [],
   "source": [
    "customers_df.to_parquet(\"olist_customers_cleaned_dataset.parquet\", index=False)"
   ]
  },
  {
   "cell_type": "markdown",
   "id": "8303c2fe",
   "metadata": {},
   "source": [
    "Here are the key observations from the pre-processing of the `customers_df`:\n",
    "\n",
    "*   **Missing Values:** No missing values were found in the dataset.\n",
    "*   **Data Types:** All columns have been assigned appropriate data types.\n",
    "*   **Duplicate Values:** There are no duplicate rows in the entire DataFrame or in the `customer_id` column. Duplicates in the `customer_unique_id` column are expected and represent repeat buyers, as explained in the dataset documentation.\n",
    "*   **Row Uniqueness:** Each row represents a unique customer entry in this specific dataset instance.\n",
    "*   **Key Identifiers:** `customer_id` serves as an anonymized link to orders, while `customer_unique_id` allows for tracking individual customers across multiple orders.\n",
    "*   **Geographical Information:** The dataset includes `customer_city`, `customer_state`, and `customer_zip_code_prefix` for geographical analysis.\n",
    "*   **Outliers:** No outliers were detected in the numerical column (`customer_zip_code_prefix`) using the IQR method."
   ]
  },
  {
   "cell_type": "markdown",
   "id": "e40258db",
   "metadata": {},
   "source": [
    "### Processing the `olist_sellers_dataset.csv`, this includes checking for null/missing values, ensuring all datatypes are correctly assigned to the columns, checking for duplicate values and checking for outliers."
   ]
  },
  {
   "cell_type": "code",
   "execution_count": 111,
   "id": "07916645",
   "metadata": {},
   "outputs": [
    {
     "data": {
      "text/html": [
       "<div>\n",
       "<style scoped>\n",
       "    .dataframe tbody tr th:only-of-type {\n",
       "        vertical-align: middle;\n",
       "    }\n",
       "\n",
       "    .dataframe tbody tr th {\n",
       "        vertical-align: top;\n",
       "    }\n",
       "\n",
       "    .dataframe thead th {\n",
       "        text-align: right;\n",
       "    }\n",
       "</style>\n",
       "<table border=\"1\" class=\"dataframe\">\n",
       "  <thead>\n",
       "    <tr style=\"text-align: right;\">\n",
       "      <th></th>\n",
       "      <th>seller_id</th>\n",
       "      <th>seller_zip_code_prefix</th>\n",
       "      <th>seller_city</th>\n",
       "      <th>seller_state</th>\n",
       "    </tr>\n",
       "  </thead>\n",
       "  <tbody>\n",
       "    <tr>\n",
       "      <th>0</th>\n",
       "      <td>3442f8959a84dea7ee197c632cb2df15</td>\n",
       "      <td>13023</td>\n",
       "      <td>campinas</td>\n",
       "      <td>SP</td>\n",
       "    </tr>\n",
       "    <tr>\n",
       "      <th>1</th>\n",
       "      <td>d1b65fc7debc3361ea86b5f14c68d2e2</td>\n",
       "      <td>13844</td>\n",
       "      <td>mogi guacu</td>\n",
       "      <td>SP</td>\n",
       "    </tr>\n",
       "    <tr>\n",
       "      <th>2</th>\n",
       "      <td>ce3ad9de960102d0677a81f5d0bb7b2d</td>\n",
       "      <td>20031</td>\n",
       "      <td>rio de janeiro</td>\n",
       "      <td>RJ</td>\n",
       "    </tr>\n",
       "    <tr>\n",
       "      <th>3</th>\n",
       "      <td>c0f3eea2e14555b6faeea3dd58c1b1c3</td>\n",
       "      <td>4195</td>\n",
       "      <td>sao paulo</td>\n",
       "      <td>SP</td>\n",
       "    </tr>\n",
       "    <tr>\n",
       "      <th>4</th>\n",
       "      <td>51a04a8a6bdcb23deccc82b0b80742cf</td>\n",
       "      <td>12914</td>\n",
       "      <td>braganca paulista</td>\n",
       "      <td>SP</td>\n",
       "    </tr>\n",
       "  </tbody>\n",
       "</table>\n",
       "</div>"
      ],
      "text/plain": [
       "                          seller_id  seller_zip_code_prefix  \\\n",
       "0  3442f8959a84dea7ee197c632cb2df15                   13023   \n",
       "1  d1b65fc7debc3361ea86b5f14c68d2e2                   13844   \n",
       "2  ce3ad9de960102d0677a81f5d0bb7b2d                   20031   \n",
       "3  c0f3eea2e14555b6faeea3dd58c1b1c3                    4195   \n",
       "4  51a04a8a6bdcb23deccc82b0b80742cf                   12914   \n",
       "\n",
       "         seller_city seller_state  \n",
       "0           campinas           SP  \n",
       "1         mogi guacu           SP  \n",
       "2     rio de janeiro           RJ  \n",
       "3          sao paulo           SP  \n",
       "4  braganca paulista           SP  "
      ]
     },
     "execution_count": 111,
     "metadata": {},
     "output_type": "execute_result"
    }
   ],
   "source": [
    "# Load the sellers dataset\n",
    "seller_dataset_path = os.path.join(path, \"olist_sellers_dataset.csv\")\n",
    "seller_df = pd.read_csv(seller_dataset_path)\n",
    "\n",
    "# Display the first few rows of the DataFrame\n",
    "seller_df.head()"
   ]
  },
  {
   "cell_type": "code",
   "execution_count": 112,
   "id": "21a61b3a",
   "metadata": {},
   "outputs": [
    {
     "name": "stdout",
     "output_type": "stream",
     "text": [
      "<class 'pandas.core.frame.DataFrame'>\n",
      "RangeIndex: 3095 entries, 0 to 3094\n",
      "Data columns (total 4 columns):\n",
      " #   Column                  Non-Null Count  Dtype \n",
      "---  ------                  --------------  ----- \n",
      " 0   seller_id               3095 non-null   object\n",
      " 1   seller_zip_code_prefix  3095 non-null   int64 \n",
      " 2   seller_city             3095 non-null   object\n",
      " 3   seller_state            3095 non-null   object\n",
      "dtypes: int64(1), object(3)\n",
      "memory usage: 96.8+ KB\n",
      "None\n",
      "\n",
      "Missing values in seller_df:\n",
      "seller_id                 0\n",
      "seller_zip_code_prefix    0\n",
      "seller_city               0\n",
      "seller_state              0\n",
      "dtype: int64\n"
     ]
    }
   ],
   "source": [
    "# Get information about the seller_df DataFrame\n",
    "print(seller_df.info())\n",
    "\n",
    "# Display missing values information\n",
    "print(\"\\nMissing values in seller_df:\")\n",
    "print(seller_df.isnull().sum())"
   ]
  },
  {
   "cell_type": "code",
   "execution_count": 113,
   "id": "cf873820",
   "metadata": {},
   "outputs": [
    {
     "name": "stdout",
     "output_type": "stream",
     "text": [
      "Duplicated values in seller_df: 0\n",
      "Duplicated values in sellerer_df['seller_id']: 0\n"
     ]
    }
   ],
   "source": [
    "# Checking for duplicated values\n",
    "print(f\"Duplicated values in seller_df: {seller_df.duplicated().sum()}\")\n",
    "print(f\"Duplicated values in sellerer_df['seller_id']: {seller_df['seller_id'].duplicated().sum()}\")"
   ]
  },
  {
   "cell_type": "code",
   "execution_count": 114,
   "id": "734a355a",
   "metadata": {},
   "outputs": [
    {
     "name": "stdout",
     "output_type": "stream",
     "text": [
      "Numerical columns in seller_df: Index(['seller_zip_code_prefix'], dtype='object')\n",
      "\n",
      "--- Outlier Analysis for column: seller_zip_code_prefix ---\n"
     ]
    },
    {
     "data": {
      "image/png": "[encoded data removed]",
      "text/plain": [
       "<Figure size 800x400 with 1 Axes>"
      ]
     },
     "metadata": {},
     "output_type": "display_data"
    },
    {
     "name": "stdout",
     "output_type": "stream",
     "text": [
      "  Number of outliers: 0\n",
      "  Percentage of outliers: 0.00%\n",
      "  Lower bound (IQR): -79095.00\n",
      "  Upper bound (IQR): 150741.00\n"
     ]
    }
   ],
   "source": [
    "# Identify numerical columns in seller_df\n",
    "numerical_cols_sellers = seller_df.select_dtypes(include=np.number).columns\n",
    "\n",
    "print(\"Numerical columns in seller_df:\", numerical_cols_sellers)\n",
    "\n",
    "# Apply outlier detection and plotting for each numerical column\n",
    "for col in numerical_cols_sellers:\n",
    "    detect_and_plot_outliers_iqr(seller_df, col)"
   ]
  },
  {
   "cell_type": "code",
   "execution_count": 115,
   "id": "87911bc2",
   "metadata": {},
   "outputs": [],
   "source": [
    "seller_df.to_parquet(\"olist_sellers_cleaned_dataset.parquet\", index=False)"
   ]
  },
  {
   "cell_type": "markdown",
   "id": "08b416e3",
   "metadata": {},
   "source": [
    "Here are the key observations from the pre-processing of the `seller_df`:\n",
    "\n",
    "*   **Missing Values and Data Types:** No missing values were detected, and all columns have appropriate data types.\n",
    "*   **Duplicate Values:** There are no duplicate values present in the DataFrame, ensuring each entry is unique per seller.\n",
    "*   **Row Uniqueness:** Each row corresponds to a unique seller identified by `seller_id`.\n",
    "*   **Geographical Information:** The dataset includes `seller_zip_code_prefix`, `seller_city`, and `seller_state`, allowing for geographical analysis of seller distribution.\n",
    "*   **Geographical Distribution:** The `seller_state` column indicates the Brazilian state where each seller is located, which is important for analyzing logistics and regional presence.\n",
    "*   **Outliers:** No outliers were detected in the numerical column (`seller_zip_code_prefix`) using the IQR method."
   ]
  },
  {
   "cell_type": "markdown",
   "id": "c68c2fb6",
   "metadata": {},
   "source": [
    "### Processing the `olist_order_reviews_dataset.csv`, this includes checking for null/missing values, ensuring all datatypes are correctly assigned to the columns, checking for duplicate values and checking for outliers."
   ]
  },
  {
   "cell_type": "code",
   "execution_count": 116,
   "id": "7a0981b3",
   "metadata": {},
   "outputs": [
    {
     "data": {
      "text/html": [
       "<div>\n",
       "<style scoped>\n",
       "    .dataframe tbody tr th:only-of-type {\n",
       "        vertical-align: middle;\n",
       "    }\n",
       "\n",
       "    .dataframe tbody tr th {\n",
       "        vertical-align: top;\n",
       "    }\n",
       "\n",
       "    .dataframe thead th {\n",
       "        text-align: right;\n",
       "    }\n",
       "</style>\n",
       "<table border=\"1\" class=\"dataframe\">\n",
       "  <thead>\n",
       "    <tr style=\"text-align: right;\">\n",
       "      <th></th>\n",
       "      <th>review_id</th>\n",
       "      <th>order_id</th>\n",
       "      <th>review_score</th>\n",
       "      <th>review_comment_title</th>\n",
       "      <th>review_comment_message</th>\n",
       "      <th>review_creation_date</th>\n",
       "      <th>review_answer_timestamp</th>\n",
       "    </tr>\n",
       "  </thead>\n",
       "  <tbody>\n",
       "    <tr>\n",
       "      <th>0</th>\n",
       "      <td>7bc2406110b926393aa56f80a40eba40</td>\n",
       "      <td>73fc7af87114b39712e6da79b0a377eb</td>\n",
       "      <td>4</td>\n",
       "      <td>NaN</td>\n",
       "      <td>NaN</td>\n",
       "      <td>2018-01-18 00:00:00</td>\n",
       "      <td>2018-01-18 21:46:59</td>\n",
       "    </tr>\n",
       "    <tr>\n",
       "      <th>1</th>\n",
       "      <td>80e641a11e56f04c1ad469d5645fdfde</td>\n",
       "      <td>a548910a1c6147796b98fdf73dbeba33</td>\n",
       "      <td>5</td>\n",
       "      <td>NaN</td>\n",
       "      <td>NaN</td>\n",
       "      <td>2018-03-10 00:00:00</td>\n",
       "      <td>2018-03-11 03:05:13</td>\n",
       "    </tr>\n",
       "    <tr>\n",
       "      <th>2</th>\n",
       "      <td>228ce5500dc1d8e020d8d1322874b6f0</td>\n",
       "      <td>f9e4b658b201a9f2ecdecbb34bed034b</td>\n",
       "      <td>5</td>\n",
       "      <td>NaN</td>\n",
       "      <td>NaN</td>\n",
       "      <td>2018-02-17 00:00:00</td>\n",
       "      <td>2018-02-18 14:36:24</td>\n",
       "    </tr>\n",
       "    <tr>\n",
       "      <th>3</th>\n",
       "      <td>e64fb393e7b32834bb789ff8bb30750e</td>\n",
       "      <td>658677c97b385a9be170737859d3511b</td>\n",
       "      <td>5</td>\n",
       "      <td>NaN</td>\n",
       "      <td>Recebi bem antes do prazo estipulado.</td>\n",
       "      <td>2017-04-21 00:00:00</td>\n",
       "      <td>2017-04-21 22:02:06</td>\n",
       "    </tr>\n",
       "    <tr>\n",
       "      <th>4</th>\n",
       "      <td>f7c4243c7fe1938f181bec41a392bdeb</td>\n",
       "      <td>8e6bfb81e283fa7e4f11123a3fb894f1</td>\n",
       "      <td>5</td>\n",
       "      <td>NaN</td>\n",
       "      <td>Parabéns lojas lannister adorei comprar pela I...</td>\n",
       "      <td>2018-03-01 00:00:00</td>\n",
       "      <td>2018-03-02 10:26:53</td>\n",
       "    </tr>\n",
       "  </tbody>\n",
       "</table>\n",
       "</div>"
      ],
      "text/plain": [
       "                          review_id                          order_id  \\\n",
       "0  7bc2406110b926393aa56f80a40eba40  73fc7af87114b39712e6da79b0a377eb   \n",
       "1  80e641a11e56f04c1ad469d5645fdfde  a548910a1c6147796b98fdf73dbeba33   \n",
       "2  228ce5500dc1d8e020d8d1322874b6f0  f9e4b658b201a9f2ecdecbb34bed034b   \n",
       "3  e64fb393e7b32834bb789ff8bb30750e  658677c97b385a9be170737859d3511b   \n",
       "4  f7c4243c7fe1938f181bec41a392bdeb  8e6bfb81e283fa7e4f11123a3fb894f1   \n",
       "\n",
       "   review_score review_comment_title  \\\n",
       "0             4                  NaN   \n",
       "1             5                  NaN   \n",
       "2             5                  NaN   \n",
       "3             5                  NaN   \n",
       "4             5                  NaN   \n",
       "\n",
       "                              review_comment_message review_creation_date  \\\n",
       "0                                                NaN  2018-01-18 00:00:00   \n",
       "1                                                NaN  2018-03-10 00:00:00   \n",
       "2                                                NaN  2018-02-17 00:00:00   \n",
       "3              Recebi bem antes do prazo estipulado.  2017-04-21 00:00:00   \n",
       "4  Parabéns lojas lannister adorei comprar pela I...  2018-03-01 00:00:00   \n",
       "\n",
       "  review_answer_timestamp  \n",
       "0     2018-01-18 21:46:59  \n",
       "1     2018-03-11 03:05:13  \n",
       "2     2018-02-18 14:36:24  \n",
       "3     2017-04-21 22:02:06  \n",
       "4     2018-03-02 10:26:53  "
      ]
     },
     "execution_count": 116,
     "metadata": {},
     "output_type": "execute_result"
    }
   ],
   "source": [
    "# Load the order reviews dataset\n",
    "order_reviews_dataset_path = os.path.join(path, \"olist_order_reviews_dataset.csv\")\n",
    "order_reviews_df = pd.read_csv(order_reviews_dataset_path)\n",
    "\n",
    "# Display the first few rows of the DataFrame\n",
    "order_reviews_df.head()"
   ]
  },
  {
   "cell_type": "code",
   "execution_count": 117,
   "id": "b126ff1f",
   "metadata": {},
   "outputs": [
    {
     "name": "stdout",
     "output_type": "stream",
     "text": [
      "<class 'pandas.core.frame.DataFrame'>\n",
      "RangeIndex: 99224 entries, 0 to 99223\n",
      "Data columns (total 7 columns):\n",
      " #   Column                   Non-Null Count  Dtype \n",
      "---  ------                   --------------  ----- \n",
      " 0   review_id                99224 non-null  object\n",
      " 1   order_id                 99224 non-null  object\n",
      " 2   review_score             99224 non-null  int64 \n",
      " 3   review_comment_title     11568 non-null  object\n",
      " 4   review_comment_message   40977 non-null  object\n",
      " 5   review_creation_date     99224 non-null  object\n",
      " 6   review_answer_timestamp  99224 non-null  object\n",
      "dtypes: int64(1), object(6)\n",
      "memory usage: 5.3+ MB\n",
      "None\n",
      "\n",
      "Missing values in order_reviews_df:\n",
      "review_id                      0\n",
      "order_id                       0\n",
      "review_score                   0\n",
      "review_comment_title       87656\n",
      "review_comment_message     58247\n",
      "review_creation_date           0\n",
      "review_answer_timestamp        0\n",
      "dtype: int64\n"
     ]
    }
   ],
   "source": [
    "# Get information about the order_reviews_df DataFrame\n",
    "print(order_reviews_df.info())\n",
    "\n",
    "# Display missing values information\n",
    "print(\"\\nMissing values in order_reviews_df:\")\n",
    "print(order_reviews_df.isnull().sum())"
   ]
  },
  {
   "cell_type": "code",
   "execution_count": 118,
   "id": "ac2c8f38",
   "metadata": {},
   "outputs": [
    {
     "name": "stdout",
     "output_type": "stream",
     "text": [
      "\n",
      "Missing values in order_reviews_df after filling:\n",
      "review_id                  0\n",
      "order_id                   0\n",
      "review_score               0\n",
      "review_comment_title       0\n",
      "review_comment_message     0\n",
      "review_creation_date       0\n",
      "review_answer_timestamp    0\n",
      "dtype: int64\n"
     ]
    }
   ],
   "source": [
    "# Fill missing values in 'review_comment_title' and 'review_comment_message' with 'no comment'\n",
    "order_reviews_df['review_comment_title'] = order_reviews_df['review_comment_title'].fillna('no comment')\n",
    "order_reviews_df['review_comment_message'] = order_reviews_df['review_comment_message'].fillna('no comment')\n",
    "\n",
    "# Verify that missing values have been handled\n",
    "print(\"\\nMissing values in order_reviews_df after filling:\")\n",
    "print(order_reviews_df.isnull().sum())"
   ]
  },
  {
   "cell_type": "code",
   "execution_count": 119,
   "id": "6143bb34",
   "metadata": {},
   "outputs": [
    {
     "name": "stdout",
     "output_type": "stream",
     "text": [
      "Datatype after being handled carefully: \n",
      "review_id                          object\n",
      "order_id                           object\n",
      "review_score                        int64\n",
      "review_comment_title               object\n",
      "review_comment_message             object\n",
      "review_creation_date       datetime64[ns]\n",
      "review_answer_timestamp    datetime64[ns]\n",
      "dtype: object\n"
     ]
    }
   ],
   "source": [
    "# Datatype mismatch\n",
    "order_reviews_df['review_answer_timestamp'] = pd.to_datetime(order_reviews_df['review_answer_timestamp'])\n",
    "order_reviews_df['review_creation_date'] = pd.to_datetime(order_reviews_df['review_creation_date'])\n",
    "\n",
    "print(f\"Datatype after being handled carefully: \\n{order_reviews_df.dtypes}\")"
   ]
  },
  {
   "cell_type": "code",
   "execution_count": 120,
   "id": "41f4f038",
   "metadata": {},
   "outputs": [
    {
     "name": "stdout",
     "output_type": "stream",
     "text": [
      "Duplicated values in order_reviews_df: 0\n",
      "Duplicated values in order_reviews_df['review_id']: 814\n",
      "Duplicated values in order_reviews_df['review_id'] after removing duplicates: 0\n"
     ]
    }
   ],
   "source": [
    "# Duplicated Values\n",
    "print(f\"Duplicated values in order_reviews_df: {order_reviews_df.duplicated().sum()}\")\n",
    "print(f\"Duplicated values in order_reviews_df['review_id']: {order_reviews_df['review_id'].duplicated().sum()}\")\n",
    "# Remove duplicate review_id values from order_reviews_df\n",
    "order_reviews_df.drop_duplicates(subset='review_id', inplace=True)\n",
    "\n",
    "# Verify that duplicates have been removed\n",
    "print(f\"Duplicated values in order_reviews_df['review_id'] after removing duplicates: {order_reviews_df['review_id'].duplicated().sum()}\")"
   ]
  },
  {
   "cell_type": "code",
   "execution_count": 121,
   "id": "a53a25d5",
   "metadata": {},
   "outputs": [
    {
     "name": "stdout",
     "output_type": "stream",
     "text": [
      "Numerical columns in seller_df: Index(['review_score'], dtype='object')\n",
      "\n",
      "--- Outlier Analysis for column: review_score ---\n"
     ]
    },
    {
     "data": {
      "image/png": "[encoded data removed]",
      "text/plain": [
       "<Figure size 800x400 with 1 Axes>"
      ]
     },
     "metadata": {},
     "output_type": "display_data"
    },
    {
     "name": "stdout",
     "output_type": "stream",
     "text": [
      "  Number of outliers: 14396\n",
      "  Percentage of outliers: 14.63%\n",
      "  Lower bound (IQR): 2.50\n",
      "  Upper bound (IQR): 6.50\n"
     ]
    }
   ],
   "source": [
    "# Identify numerical columns in seller_df\n",
    "numerical_cols_sellers = order_reviews_df.select_dtypes(include=np.number).columns\n",
    "\n",
    "print(\"Numerical columns in seller_df:\", numerical_cols_sellers)\n",
    "\n",
    "# Apply outlier detection and plotting for each numerical column\n",
    "for col in numerical_cols_sellers:\n",
    "    detect_and_plot_outliers_iqr(order_reviews_df, col)"
   ]
  },
  {
   "cell_type": "code",
   "execution_count": 122,
   "id": "e7126098",
   "metadata": {},
   "outputs": [],
   "source": [
    "order_reviews_df.to_parquet(\"olist_order_reviews_cleaned_dataset.parquet\", index=False)"
   ]
  },
  {
   "cell_type": "markdown",
   "id": "6ccac32b",
   "metadata": {},
   "source": [
    "Observations:\n",
    "* Each row corresponds to exactly one review per order.\n",
    "* review_score ranges from 1 to 5, with most orders having a rating.\n",
    "* Many reviews lack textual comments (review_comment_title and review_comment_message have many nulls) which were later replaced by 'no comment' string.\n",
    "* Review timestamps (review_creation_date, review_answer_timestamp) are stored as objects and will need datetime conversion for time series analysis.\n",
    "* we found that there are 814 duplicated values in the review_id.\n",
    "* This dataset can provide insights on customer satisfaction and correlate ratings with delivery times, sellers, or product categories during EDA.\n",
    "* Number of outliers: 14396, but these outliers are part of rating which are given my customers and it can be highly negative or highly positive but these are essential for the ML."
   ]
  },
  {
   "cell_type": "markdown",
   "id": "51540028",
   "metadata": {},
   "source": [
    "### Processing the `olist_order_items_dataset.csv`, this includes checking for null/missing values, ensuring all datatypes are correctly assigned to the columns, checking for duplicate values and checking for outliers."
   ]
  },
  {
   "cell_type": "code",
   "execution_count": 123,
   "id": "351c7ffe",
   "metadata": {},
   "outputs": [
    {
     "data": {
      "text/html": [
       "<div>\n",
       "<style scoped>\n",
       "    .dataframe tbody tr th:only-of-type {\n",
       "        vertical-align: middle;\n",
       "    }\n",
       "\n",
       "    .dataframe tbody tr th {\n",
       "        vertical-align: top;\n",
       "    }\n",
       "\n",
       "    .dataframe thead th {\n",
       "        text-align: right;\n",
       "    }\n",
       "</style>\n",
       "<table border=\"1\" class=\"dataframe\">\n",
       "  <thead>\n",
       "    <tr style=\"text-align: right;\">\n",
       "      <th></th>\n",
       "      <th>order_id</th>\n",
       "      <th>order_item_id</th>\n",
       "      <th>product_id</th>\n",
       "      <th>seller_id</th>\n",
       "      <th>shipping_limit_date</th>\n",
       "      <th>price</th>\n",
       "      <th>freight_value</th>\n",
       "    </tr>\n",
       "  </thead>\n",
       "  <tbody>\n",
       "    <tr>\n",
       "      <th>0</th>\n",
       "      <td>00010242fe8c5a6d1ba2dd792cb16214</td>\n",
       "      <td>1</td>\n",
       "      <td>4244733e06e7ecb4970a6e2683c13e61</td>\n",
       "      <td>48436dade18ac8b2bce089ec2a041202</td>\n",
       "      <td>2017-09-19 09:45:35</td>\n",
       "      <td>58.90</td>\n",
       "      <td>13.29</td>\n",
       "    </tr>\n",
       "    <tr>\n",
       "      <th>1</th>\n",
       "      <td>00018f77f2f0320c557190d7a144bdd3</td>\n",
       "      <td>1</td>\n",
       "      <td>e5f2d52b802189ee658865ca93d83a8f</td>\n",
       "      <td>dd7ddc04e1b6c2c614352b383efe2d36</td>\n",
       "      <td>2017-05-03 11:05:13</td>\n",
       "      <td>239.90</td>\n",
       "      <td>19.93</td>\n",
       "    </tr>\n",
       "    <tr>\n",
       "      <th>2</th>\n",
       "      <td>000229ec398224ef6ca0657da4fc703e</td>\n",
       "      <td>1</td>\n",
       "      <td>c777355d18b72b67abbeef9df44fd0fd</td>\n",
       "      <td>5b51032eddd242adc84c38acab88f23d</td>\n",
       "      <td>2018-01-18 14:48:30</td>\n",
       "      <td>199.00</td>\n",
       "      <td>17.87</td>\n",
       "    </tr>\n",
       "    <tr>\n",
       "      <th>3</th>\n",
       "      <td>00024acbcdf0a6daa1e931b038114c75</td>\n",
       "      <td>1</td>\n",
       "      <td>7634da152a4610f1595efa32f14722fc</td>\n",
       "      <td>9d7a1d34a5052409006425275ba1c2b4</td>\n",
       "      <td>2018-08-15 10:10:18</td>\n",
       "      <td>12.99</td>\n",
       "      <td>12.79</td>\n",
       "    </tr>\n",
       "    <tr>\n",
       "      <th>4</th>\n",
       "      <td>00042b26cf59d7ce69dfabb4e55b4fd9</td>\n",
       "      <td>1</td>\n",
       "      <td>ac6c3623068f30de03045865e4e10089</td>\n",
       "      <td>df560393f3a51e74553ab94004ba5c87</td>\n",
       "      <td>2017-02-13 13:57:51</td>\n",
       "      <td>199.90</td>\n",
       "      <td>18.14</td>\n",
       "    </tr>\n",
       "  </tbody>\n",
       "</table>\n",
       "</div>"
      ],
      "text/plain": [
       "                           order_id  order_item_id  \\\n",
       "0  00010242fe8c5a6d1ba2dd792cb16214              1   \n",
       "1  00018f77f2f0320c557190d7a144bdd3              1   \n",
       "2  000229ec398224ef6ca0657da4fc703e              1   \n",
       "3  00024acbcdf0a6daa1e931b038114c75              1   \n",
       "4  00042b26cf59d7ce69dfabb4e55b4fd9              1   \n",
       "\n",
       "                         product_id                         seller_id  \\\n",
       "0  4244733e06e7ecb4970a6e2683c13e61  48436dade18ac8b2bce089ec2a041202   \n",
       "1  e5f2d52b802189ee658865ca93d83a8f  dd7ddc04e1b6c2c614352b383efe2d36   \n",
       "2  c777355d18b72b67abbeef9df44fd0fd  5b51032eddd242adc84c38acab88f23d   \n",
       "3  7634da152a4610f1595efa32f14722fc  9d7a1d34a5052409006425275ba1c2b4   \n",
       "4  ac6c3623068f30de03045865e4e10089  df560393f3a51e74553ab94004ba5c87   \n",
       "\n",
       "   shipping_limit_date   price  freight_value  \n",
       "0  2017-09-19 09:45:35   58.90          13.29  \n",
       "1  2017-05-03 11:05:13  239.90          19.93  \n",
       "2  2018-01-18 14:48:30  199.00          17.87  \n",
       "3  2018-08-15 10:10:18   12.99          12.79  \n",
       "4  2017-02-13 13:57:51  199.90          18.14  "
      ]
     },
     "execution_count": 123,
     "metadata": {},
     "output_type": "execute_result"
    }
   ],
   "source": [
    "# Load the order items dataset\n",
    "order_items_dataset_path = os.path.join(path, \"olist_order_items_dataset.csv\")\n",
    "order_items_df = pd.read_csv(order_items_dataset_path)\n",
    "\n",
    "# Display the first few rows of the DataFrame\n",
    "order_items_df.head()"
   ]
  },
  {
   "cell_type": "code",
   "execution_count": 124,
   "id": "0272a537",
   "metadata": {},
   "outputs": [
    {
     "name": "stdout",
     "output_type": "stream",
     "text": [
      "<class 'pandas.core.frame.DataFrame'>\n",
      "RangeIndex: 112650 entries, 0 to 112649\n",
      "Data columns (total 7 columns):\n",
      " #   Column               Non-Null Count   Dtype  \n",
      "---  ------               --------------   -----  \n",
      " 0   order_id             112650 non-null  object \n",
      " 1   order_item_id        112650 non-null  int64  \n",
      " 2   product_id           112650 non-null  object \n",
      " 3   seller_id            112650 non-null  object \n",
      " 4   shipping_limit_date  112650 non-null  object \n",
      " 5   price                112650 non-null  float64\n",
      " 6   freight_value        112650 non-null  float64\n",
      "dtypes: float64(2), int64(1), object(4)\n",
      "memory usage: 6.0+ MB\n",
      "None\n",
      "\n",
      "Missing values in order_items_df:\n",
      "order_id               0\n",
      "order_item_id          0\n",
      "product_id             0\n",
      "seller_id              0\n",
      "shipping_limit_date    0\n",
      "price                  0\n",
      "freight_value          0\n",
      "dtype: int64\n"
     ]
    }
   ],
   "source": [
    "# Get information about the order_items_df DataFrame\n",
    "print(order_items_df.info())\n",
    "\n",
    "# Display missing values information\n",
    "print(\"\\nMissing values in order_items_df:\")\n",
    "print(order_items_df.isnull().sum())"
   ]
  },
  {
   "cell_type": "code",
   "execution_count": 125,
   "id": "b2901909",
   "metadata": {},
   "outputs": [
    {
     "name": "stdout",
     "output_type": "stream",
     "text": [
      "Datatype after being handled carefully: \n",
      "order_id                     object\n",
      "order_item_id                 int64\n",
      "product_id                   object\n",
      "seller_id                    object\n",
      "shipping_deadline    datetime64[ns]\n",
      "price                       float64\n",
      "freight_value               float64\n",
      "dtype: object\n"
     ]
    }
   ],
   "source": [
    "order_items_df.rename(columns={\"shipping_limit_date\" : \"shipping_deadline\"}, inplace=True)\n",
    "order_items_df['shipping_deadline'] = pd.to_datetime(order_items_df['shipping_deadline'])\n",
    "print(f\"Datatype after being handled carefully: \\n{order_items_df.dtypes}\")"
   ]
  },
  {
   "cell_type": "code",
   "execution_count": 126,
   "id": "90ecbcc4",
   "metadata": {},
   "outputs": [
    {
     "name": "stdout",
     "output_type": "stream",
     "text": [
      "Duplicated values in order_reviews_df: 0\n",
      "Checking duplicates in the combination of order_id, item_is: 0\n"
     ]
    }
   ],
   "source": [
    "# Duplicated Values\n",
    "print(f\"Duplicated values in order_reviews_df: {order_items_df.duplicated().sum()}\")\n",
    "print(f\"Checking duplicates in the combination of order_id, item_is: {order_items_df.duplicated(subset=['order_id', 'order_item_id']).sum()}\")"
   ]
  },
  {
   "cell_type": "code",
   "execution_count": 127,
   "id": "65f11dae",
   "metadata": {},
   "outputs": [
    {
     "name": "stdout",
     "output_type": "stream",
     "text": [
      "Numerical columns in order_items_df: Index(['order_item_id', 'price', 'freight_value'], dtype='object')\n",
      "\n",
      "--- Outlier Analysis for column: price ---\n"
     ]
    },
    {
     "data": {
      "image/png": "[encoded data removed]",
      "text/plain": [
       "<Figure size 800x400 with 1 Axes>"
      ]
     },
     "metadata": {},
     "output_type": "display_data"
    },
    {
     "name": "stdout",
     "output_type": "stream",
     "text": [
      "  Number of outliers: 8427\n",
      "  Percentage of outliers: 7.48%\n",
      "  Lower bound (IQR): -102.60\n",
      "  Upper bound (IQR): 277.40\n",
      "\n",
      "--- Outlier Analysis for column: freight_value ---\n"
     ]
    },
    {
     "data": {
      "image/png": "[encoded data removed]",
      "text/plain": [
       "<Figure size 800x400 with 1 Axes>"
      ]
     },
     "metadata": {},
     "output_type": "display_data"
    },
    {
     "name": "stdout",
     "output_type": "stream",
     "text": [
      "  Number of outliers: 12134\n",
      "  Percentage of outliers: 10.77%\n",
      "  Lower bound (IQR): 0.98\n",
      "  Upper bound (IQR): 33.25\n"
     ]
    }
   ],
   "source": [
    "# Identify numerical columns in order_items_df\n",
    "numerical_cols_items = order_items_df.select_dtypes(include=np.number).columns\n",
    "\n",
    "print(\"Numerical columns in order_items_df:\", numerical_cols_items)\n",
    "\n",
    "# Apply outlier detection and plotting for each numerical column\n",
    "for col in numerical_cols_items:\n",
    "    if col == 'order_item_id': # Exclude order_item_id from outlier detection\n",
    "      continue\n",
    "    detect_and_plot_outliers_iqr(order_items_df, col)"
   ]
  },
  {
   "cell_type": "code",
   "execution_count": 128,
   "id": "0cab68d9",
   "metadata": {},
   "outputs": [
    {
     "name": "stdout",
     "output_type": "stream",
     "text": [
      "--- Top 5 Price Outliers ---\n"
     ]
    },
    {
     "data": {
      "text/html": [
       "<div>\n",
       "<style scoped>\n",
       "    .dataframe tbody tr th:only-of-type {\n",
       "        vertical-align: middle;\n",
       "    }\n",
       "\n",
       "    .dataframe tbody tr th {\n",
       "        vertical-align: top;\n",
       "    }\n",
       "\n",
       "    .dataframe thead th {\n",
       "        text-align: right;\n",
       "    }\n",
       "</style>\n",
       "<table border=\"1\" class=\"dataframe\">\n",
       "  <thead>\n",
       "    <tr style=\"text-align: right;\">\n",
       "      <th></th>\n",
       "      <th>order_id</th>\n",
       "      <th>order_item_id</th>\n",
       "      <th>product_id</th>\n",
       "      <th>seller_id</th>\n",
       "      <th>shipping_deadline</th>\n",
       "      <th>price</th>\n",
       "      <th>freight_value</th>\n",
       "    </tr>\n",
       "  </thead>\n",
       "  <tbody>\n",
       "    <tr>\n",
       "      <th>3556</th>\n",
       "      <td>0812eb902a67711a1cb742b3cdaa65ae</td>\n",
       "      <td>1</td>\n",
       "      <td>489ae2aa008f021502940f251d4cce7f</td>\n",
       "      <td>e3b4998c7a498169dc7bce44e6bb6277</td>\n",
       "      <td>2017-02-16 20:37:36</td>\n",
       "      <td>6735.0</td>\n",
       "      <td>194.31</td>\n",
       "    </tr>\n",
       "    <tr>\n",
       "      <th>112233</th>\n",
       "      <td>fefacc66af859508bf1a7934eab1e97f</td>\n",
       "      <td>1</td>\n",
       "      <td>69c590f7ffc7bf8db97190b6cb6ed62e</td>\n",
       "      <td>80ceebb4ee9b31afb6c6a916a574a1e2</td>\n",
       "      <td>2018-08-02 04:05:13</td>\n",
       "      <td>6729.0</td>\n",
       "      <td>193.21</td>\n",
       "    </tr>\n",
       "    <tr>\n",
       "      <th>107841</th>\n",
       "      <td>f5136e38d1a14a4dbd87dff67da82701</td>\n",
       "      <td>1</td>\n",
       "      <td>1bdf5e6731585cf01aa8169c7028d6ad</td>\n",
       "      <td>ee27a8f15b1dded4d213a468ba4eb391</td>\n",
       "      <td>2017-06-15 02:45:17</td>\n",
       "      <td>6499.0</td>\n",
       "      <td>227.66</td>\n",
       "    </tr>\n",
       "    <tr>\n",
       "      <th>74336</th>\n",
       "      <td>a96610ab360d42a2e5335a3998b4718a</td>\n",
       "      <td>1</td>\n",
       "      <td>a6492cc69376c469ab6f61d8f44de961</td>\n",
       "      <td>59417c56835dd8e2e72f91f809cd4092</td>\n",
       "      <td>2017-04-18 13:25:18</td>\n",
       "      <td>4799.0</td>\n",
       "      <td>151.34</td>\n",
       "    </tr>\n",
       "    <tr>\n",
       "      <th>11249</th>\n",
       "      <td>199af31afc78c699f0dbf71fb178d4d4</td>\n",
       "      <td>1</td>\n",
       "      <td>c3ed642d592594bb648ff4a04cee2747</td>\n",
       "      <td>59417c56835dd8e2e72f91f809cd4092</td>\n",
       "      <td>2017-05-09 15:50:15</td>\n",
       "      <td>4690.0</td>\n",
       "      <td>74.34</td>\n",
       "    </tr>\n",
       "  </tbody>\n",
       "</table>\n",
       "</div>"
      ],
      "text/plain": [
       "                                order_id  order_item_id  \\\n",
       "3556    0812eb902a67711a1cb742b3cdaa65ae              1   \n",
       "112233  fefacc66af859508bf1a7934eab1e97f              1   \n",
       "107841  f5136e38d1a14a4dbd87dff67da82701              1   \n",
       "74336   a96610ab360d42a2e5335a3998b4718a              1   \n",
       "11249   199af31afc78c699f0dbf71fb178d4d4              1   \n",
       "\n",
       "                              product_id                         seller_id  \\\n",
       "3556    489ae2aa008f021502940f251d4cce7f  e3b4998c7a498169dc7bce44e6bb6277   \n",
       "112233  69c590f7ffc7bf8db97190b6cb6ed62e  80ceebb4ee9b31afb6c6a916a574a1e2   \n",
       "107841  1bdf5e6731585cf01aa8169c7028d6ad  ee27a8f15b1dded4d213a468ba4eb391   \n",
       "74336   a6492cc69376c469ab6f61d8f44de961  59417c56835dd8e2e72f91f809cd4092   \n",
       "11249   c3ed642d592594bb648ff4a04cee2747  59417c56835dd8e2e72f91f809cd4092   \n",
       "\n",
       "         shipping_deadline   price  freight_value  \n",
       "3556   2017-02-16 20:37:36  6735.0         194.31  \n",
       "112233 2018-08-02 04:05:13  6729.0         193.21  \n",
       "107841 2017-06-15 02:45:17  6499.0         227.66  \n",
       "74336  2017-04-18 13:25:18  4799.0         151.34  \n",
       "11249  2017-05-09 15:50:15  4690.0          74.34  "
      ]
     },
     "metadata": {},
     "output_type": "display_data"
    },
    {
     "name": "stdout",
     "output_type": "stream",
     "text": [
      "\n",
      "--- Top 5 Freight Value Outliers ---\n"
     ]
    },
    {
     "data": {
      "text/html": [
       "<div>\n",
       "<style scoped>\n",
       "    .dataframe tbody tr th:only-of-type {\n",
       "        vertical-align: middle;\n",
       "    }\n",
       "\n",
       "    .dataframe tbody tr th {\n",
       "        vertical-align: top;\n",
       "    }\n",
       "\n",
       "    .dataframe thead th {\n",
       "        text-align: right;\n",
       "    }\n",
       "</style>\n",
       "<table border=\"1\" class=\"dataframe\">\n",
       "  <thead>\n",
       "    <tr style=\"text-align: right;\">\n",
       "      <th></th>\n",
       "      <th>order_id</th>\n",
       "      <th>order_item_id</th>\n",
       "      <th>product_id</th>\n",
       "      <th>seller_id</th>\n",
       "      <th>shipping_deadline</th>\n",
       "      <th>price</th>\n",
       "      <th>freight_value</th>\n",
       "    </tr>\n",
       "  </thead>\n",
       "  <tbody>\n",
       "    <tr>\n",
       "      <th>73486</th>\n",
       "      <td>a77e1550db865202c56b19ddc6dc4d53</td>\n",
       "      <td>1</td>\n",
       "      <td>ec31d2a17b299511e7c8627be9337b9b</td>\n",
       "      <td>257e61d3251fb5efb9daadddbc2cf7ca</td>\n",
       "      <td>2018-04-25 06:55:13</td>\n",
       "      <td>979.00</td>\n",
       "      <td>409.68</td>\n",
       "    </tr>\n",
       "    <tr>\n",
       "      <th>28044</th>\n",
       "      <td>3fde74c28a3d5d618c00f26d51baafa0</td>\n",
       "      <td>1</td>\n",
       "      <td>a3cd9517ebf5a50dca25acce54f3b171</td>\n",
       "      <td>6fa9202c10491e472dffd59a3e82b2a3</td>\n",
       "      <td>2018-08-22 03:15:09</td>\n",
       "      <td>2338.08</td>\n",
       "      <td>375.28</td>\n",
       "    </tr>\n",
       "    <tr>\n",
       "      <th>3303</th>\n",
       "      <td>076d1555fb53a89b0ef4d529e527a0f6</td>\n",
       "      <td>1</td>\n",
       "      <td>a3cd9517ebf5a50dca25acce54f3b171</td>\n",
       "      <td>6fa9202c10491e472dffd59a3e82b2a3</td>\n",
       "      <td>2018-08-07 04:35:22</td>\n",
       "      <td>2338.08</td>\n",
       "      <td>375.28</td>\n",
       "    </tr>\n",
       "    <tr>\n",
       "      <th>69797</th>\n",
       "      <td>9f49bd16053df810384e793386312674</td>\n",
       "      <td>1</td>\n",
       "      <td>256a9c364b75753b97bee410c9491ad8</td>\n",
       "      <td>5c030029b5916fed0986310385ec9009</td>\n",
       "      <td>2018-08-02 03:44:28</td>\n",
       "      <td>1149.00</td>\n",
       "      <td>339.59</td>\n",
       "    </tr>\n",
       "    <tr>\n",
       "      <th>16731</th>\n",
       "      <td>264a7e199467906c0727394df82d1a6a</td>\n",
       "      <td>1</td>\n",
       "      <td>97c948ebc8c04b26b7bbb095d4228f2a</td>\n",
       "      <td>17f51e7198701186712e53a39c564617</td>\n",
       "      <td>2018-04-23 17:15:10</td>\n",
       "      <td>1050.00</td>\n",
       "      <td>338.30</td>\n",
       "    </tr>\n",
       "  </tbody>\n",
       "</table>\n",
       "</div>"
      ],
      "text/plain": [
       "                               order_id  order_item_id  \\\n",
       "73486  a77e1550db865202c56b19ddc6dc4d53              1   \n",
       "28044  3fde74c28a3d5d618c00f26d51baafa0              1   \n",
       "3303   076d1555fb53a89b0ef4d529e527a0f6              1   \n",
       "69797  9f49bd16053df810384e793386312674              1   \n",
       "16731  264a7e199467906c0727394df82d1a6a              1   \n",
       "\n",
       "                             product_id                         seller_id  \\\n",
       "73486  ec31d2a17b299511e7c8627be9337b9b  257e61d3251fb5efb9daadddbc2cf7ca   \n",
       "28044  a3cd9517ebf5a50dca25acce54f3b171  6fa9202c10491e472dffd59a3e82b2a3   \n",
       "3303   a3cd9517ebf5a50dca25acce54f3b171  6fa9202c10491e472dffd59a3e82b2a3   \n",
       "69797  256a9c364b75753b97bee410c9491ad8  5c030029b5916fed0986310385ec9009   \n",
       "16731  97c948ebc8c04b26b7bbb095d4228f2a  17f51e7198701186712e53a39c564617   \n",
       "\n",
       "        shipping_deadline    price  freight_value  \n",
       "73486 2018-04-25 06:55:13   979.00         409.68  \n",
       "28044 2018-08-22 03:15:09  2338.08         375.28  \n",
       "3303  2018-08-07 04:35:22  2338.08         375.28  \n",
       "69797 2018-08-02 03:44:28  1149.00         339.59  \n",
       "16731 2018-04-23 17:15:10  1050.00         338.30  "
      ]
     },
     "metadata": {},
     "output_type": "display_data"
    }
   ],
   "source": [
    "# Let's find the outliers without removing them first\n",
    "# Select only numerical columns for quantile calculation\n",
    "numerical_order_items_df = order_items_df.select_dtypes(include=np.number)\n",
    "\n",
    "Q1 = numerical_order_items_df.quantile(0.25)\n",
    "Q3 = numerical_order_items_df.quantile(0.75)\n",
    "IQR = Q3 - Q1\n",
    "\n",
    "lower_bound = Q1 - 1.5 * IQR\n",
    "upper_bound = Q3 + 1.5 * IQR\n",
    "\n",
    "# Identify outliers for 'price' and 'freight_value' using their specific bounds\n",
    "outliers_price = order_items_df[(order_items_df['price'] < lower_bound['price']) | (order_items_df['price'] > upper_bound['price'])]\n",
    "outliers_freight = order_items_df[(order_items_df['freight_value'] < lower_bound['freight_value']) | (order_items_df['freight_value'] > upper_bound['freight_value'])]\n",
    "\n",
    "print(\"--- Top 5 Price Outliers ---\")\n",
    "display(outliers_price.sort_values('price', ascending=False).head())\n",
    "\n",
    "print(\"\\n--- Top 5 Freight Value Outliers ---\")\n",
    "display(outliers_freight.sort_values('freight_value', ascending=False).head())"
   ]
  },
  {
   "cell_type": "code",
   "execution_count": 129,
   "id": "003ddada",
   "metadata": {},
   "outputs": [
    {
     "name": "stdout",
     "output_type": "stream",
     "text": [
      "Log-transformed columns 'price_log' and 'freight_value_log' have been created.\n"
     ]
    },
    {
     "data": {
      "image/png": "[encoded data removed]",
      "text/plain": [
       "<Figure size 1400x1000 with 4 Axes>"
      ]
     },
     "metadata": {},
     "output_type": "display_data"
    }
   ],
   "source": [
    "order_items_df['price_log'] = np.log1p(order_items_df['price'])\n",
    "order_items_df['freight_value_log'] = np.log1p(order_items_df['freight_value'])\n",
    "\n",
    "print(\"Log-transformed columns 'price_log' and 'freight_value_log' have been created.\")\n",
    "\n",
    "\n",
    "# --- Step 2: Visualize the \"Before and After\" ---\n",
    "# This will clearly show you why this method is so effective.\n",
    "fig, axes = plt.subplots(2, 2, figsize=(14, 10))\n",
    "\n",
    "# Original distributions\n",
    "sns.histplot(order_items_df['price'], bins=50, kde=True, ax=axes[0, 0])\n",
    "axes[0, 0].set_title('Original Price Distribution (Skewed)')\n",
    "\n",
    "sns.histplot(order_items_df['freight_value'], bins=50, kde=True, ax=axes[1, 0])\n",
    "axes[1, 0].set_title('Original Freight Value Distribution (Skewed)')\n",
    "\n",
    "# Log-transformed distributions\n",
    "sns.histplot(order_items_df['price_log'], bins=50, kde=True, ax=axes[0, 1])\n",
    "axes[0, 1].set_title('Log-Transformed Price Distribution (Normalized)')\n",
    "\n",
    "sns.histplot(order_items_df['freight_value_log'], bins=50, kde=True, ax=axes[1, 1])\n",
    "axes[1, 1].set_title('Log-Transformed Freight Value Distribution (Normalized)')\n",
    "\n",
    "plt.tight_layout()\n",
    "plt.show()"
   ]
  },
  {
   "cell_type": "code",
   "execution_count": 130,
   "id": "2707e156",
   "metadata": {},
   "outputs": [],
   "source": [
    "order_reviews_df.to_parquet(\"olist_order_items_cleaned_dataset.parquet\", index=False)"
   ]
  },
  {
   "cell_type": "markdown",
   "id": "7ca506bc",
   "metadata": {},
   "source": [
    "Observations\n",
    "* No missing values detected in this dataset.\n",
    "* Each row represents an individual product item in an order:\n",
    "* An order can have multiple rows (one per product).\n",
    "* order_item_id is not a unique identifier by itself, but it helps identify the position of an item within a given order_id.\n",
    "* price and freight_value will be critical for revenue and cost analysis in the EDA stage.\n",
    "* Multiple outliers were identified in the price and freight_value but exactly they were the prices of the high-end/expensives products so we cannot remove it but in order to normalize it we transformed it using the logarithmic tranformation."
   ]
  },
  {
   "cell_type": "markdown",
   "id": "56ba6966",
   "metadata": {},
   "source": [
    "### Processing the `olist_products_dataset.csv`, this includes checking for null/missing values, ensuring all datatypes are correctly assigned to the columns, checking for duplicate values and checking for outliers."
   ]
  },
  {
   "cell_type": "code",
   "execution_count": 131,
   "id": "e8cce8ae",
   "metadata": {},
   "outputs": [
    {
     "data": {
      "text/html": [
       "<div>\n",
       "<style scoped>\n",
       "    .dataframe tbody tr th:only-of-type {\n",
       "        vertical-align: middle;\n",
       "    }\n",
       "\n",
       "    .dataframe tbody tr th {\n",
       "        vertical-align: top;\n",
       "    }\n",
       "\n",
       "    .dataframe thead th {\n",
       "        text-align: right;\n",
       "    }\n",
       "</style>\n",
       "<table border=\"1\" class=\"dataframe\">\n",
       "  <thead>\n",
       "    <tr style=\"text-align: right;\">\n",
       "      <th></th>\n",
       "      <th>product_id</th>\n",
       "      <th>product_category_name</th>\n",
       "      <th>product_name_lenght</th>\n",
       "      <th>product_description_lenght</th>\n",
       "      <th>product_photos_qty</th>\n",
       "      <th>product_weight_g</th>\n",
       "      <th>product_length_cm</th>\n",
       "      <th>product_height_cm</th>\n",
       "      <th>product_width_cm</th>\n",
       "    </tr>\n",
       "  </thead>\n",
       "  <tbody>\n",
       "    <tr>\n",
       "      <th>0</th>\n",
       "      <td>1e9e8ef04dbcff4541ed26657ea517e5</td>\n",
       "      <td>perfumaria</td>\n",
       "      <td>40.0</td>\n",
       "      <td>287.0</td>\n",
       "      <td>1.0</td>\n",
       "      <td>225.0</td>\n",
       "      <td>16.0</td>\n",
       "      <td>10.0</td>\n",
       "      <td>14.0</td>\n",
       "    </tr>\n",
       "    <tr>\n",
       "      <th>1</th>\n",
       "      <td>3aa071139cb16b67ca9e5dea641aaa2f</td>\n",
       "      <td>artes</td>\n",
       "      <td>44.0</td>\n",
       "      <td>276.0</td>\n",
       "      <td>1.0</td>\n",
       "      <td>1000.0</td>\n",
       "      <td>30.0</td>\n",
       "      <td>18.0</td>\n",
       "      <td>20.0</td>\n",
       "    </tr>\n",
       "    <tr>\n",
       "      <th>2</th>\n",
       "      <td>96bd76ec8810374ed1b65e291975717f</td>\n",
       "      <td>esporte_lazer</td>\n",
       "      <td>46.0</td>\n",
       "      <td>250.0</td>\n",
       "      <td>1.0</td>\n",
       "      <td>154.0</td>\n",
       "      <td>18.0</td>\n",
       "      <td>9.0</td>\n",
       "      <td>15.0</td>\n",
       "    </tr>\n",
       "    <tr>\n",
       "      <th>3</th>\n",
       "      <td>cef67bcfe19066a932b7673e239eb23d</td>\n",
       "      <td>bebes</td>\n",
       "      <td>27.0</td>\n",
       "      <td>261.0</td>\n",
       "      <td>1.0</td>\n",
       "      <td>371.0</td>\n",
       "      <td>26.0</td>\n",
       "      <td>4.0</td>\n",
       "      <td>26.0</td>\n",
       "    </tr>\n",
       "    <tr>\n",
       "      <th>4</th>\n",
       "      <td>9dc1a7de274444849c219cff195d0b71</td>\n",
       "      <td>utilidades_domesticas</td>\n",
       "      <td>37.0</td>\n",
       "      <td>402.0</td>\n",
       "      <td>4.0</td>\n",
       "      <td>625.0</td>\n",
       "      <td>20.0</td>\n",
       "      <td>17.0</td>\n",
       "      <td>13.0</td>\n",
       "    </tr>\n",
       "  </tbody>\n",
       "</table>\n",
       "</div>"
      ],
      "text/plain": [
       "                         product_id  product_category_name  \\\n",
       "0  1e9e8ef04dbcff4541ed26657ea517e5             perfumaria   \n",
       "1  3aa071139cb16b67ca9e5dea641aaa2f                  artes   \n",
       "2  96bd76ec8810374ed1b65e291975717f          esporte_lazer   \n",
       "3  cef67bcfe19066a932b7673e239eb23d                  bebes   \n",
       "4  9dc1a7de274444849c219cff195d0b71  utilidades_domesticas   \n",
       "\n",
       "   product_name_lenght  product_description_lenght  product_photos_qty  \\\n",
       "0                 40.0                       287.0                 1.0   \n",
       "1                 44.0                       276.0                 1.0   \n",
       "2                 46.0                       250.0                 1.0   \n",
       "3                 27.0                       261.0                 1.0   \n",
       "4                 37.0                       402.0                 4.0   \n",
       "\n",
       "   product_weight_g  product_length_cm  product_height_cm  product_width_cm  \n",
       "0             225.0               16.0               10.0              14.0  \n",
       "1            1000.0               30.0               18.0              20.0  \n",
       "2             154.0               18.0                9.0              15.0  \n",
       "3             371.0               26.0                4.0              26.0  \n",
       "4             625.0               20.0               17.0              13.0  "
      ]
     },
     "execution_count": 131,
     "metadata": {},
     "output_type": "execute_result"
    }
   ],
   "source": [
    "# Load the products dataset\n",
    "products_dataset_path = os.path.join(path, \"olist_products_dataset.csv\")\n",
    "products_df = pd.read_csv(products_dataset_path)\n",
    "\n",
    "# Display the first few rows of the DataFrame\n",
    "products_df.head()"
   ]
  },
  {
   "cell_type": "code",
   "execution_count": 132,
   "id": "e0a05351",
   "metadata": {},
   "outputs": [
    {
     "name": "stdout",
     "output_type": "stream",
     "text": [
      "<class 'pandas.core.frame.DataFrame'>\n",
      "RangeIndex: 32951 entries, 0 to 32950\n",
      "Data columns (total 9 columns):\n",
      " #   Column                      Non-Null Count  Dtype  \n",
      "---  ------                      --------------  -----  \n",
      " 0   product_id                  32951 non-null  object \n",
      " 1   product_category_name       32341 non-null  object \n",
      " 2   product_name_lenght         32341 non-null  float64\n",
      " 3   product_description_lenght  32341 non-null  float64\n",
      " 4   product_photos_qty          32341 non-null  float64\n",
      " 5   product_weight_g            32949 non-null  float64\n",
      " 6   product_length_cm           32949 non-null  float64\n",
      " 7   product_height_cm           32949 non-null  float64\n",
      " 8   product_width_cm            32949 non-null  float64\n",
      "dtypes: float64(7), object(2)\n",
      "memory usage: 2.3+ MB\n",
      "None\n",
      "\n",
      "Missing values in products_df:\n",
      "product_id                      0\n",
      "product_category_name         610\n",
      "product_name_lenght           610\n",
      "product_description_lenght    610\n",
      "product_photos_qty            610\n",
      "product_weight_g                2\n",
      "product_length_cm               2\n",
      "product_height_cm               2\n",
      "product_width_cm                2\n",
      "dtype: int64\n"
     ]
    }
   ],
   "source": [
    "# Get information about the products_df DataFrame\n",
    "print(products_df.info())\n",
    "\n",
    "# Display missing values information\n",
    "print(\"\\nMissing values in products_df:\")\n",
    "print(products_df.isnull().sum())"
   ]
  },
  {
   "cell_type": "code",
   "execution_count": 133,
   "id": "4d3d4f40",
   "metadata": {},
   "outputs": [],
   "source": [
    "products_df.rename(columns={\n",
    "    \"product_name_lenght\" : \"product_name_length\",\n",
    "    \"product_description_lenght\" : \"product_description_length\"\n",
    "}, inplace=True)"
   ]
  },
  {
   "cell_type": "code",
   "execution_count": 134,
   "id": "3decb061",
   "metadata": {},
   "outputs": [
    {
     "name": "stdout",
     "output_type": "stream",
     "text": [
      "\n",
      "Missing values in products_df after filling 'product_category_name':\n",
      "product_id                      0\n",
      "product_category_name           0\n",
      "product_name_length           610\n",
      "product_description_length    610\n",
      "product_photos_qty            610\n",
      "product_weight_g                2\n",
      "product_length_cm               2\n",
      "product_height_cm               2\n",
      "product_width_cm                2\n",
      "dtype: int64\n"
     ]
    }
   ],
   "source": [
    "# Fill missing values in 'product_category_name' with 'unknown'\n",
    "products_df['product_category_name'] = products_df['product_category_name'].fillna('unknown')\n",
    "\n",
    "# Verify that missing values in 'product_category_name' have been handled\n",
    "print(\"\\nMissing values in products_df after filling 'product_category_name':\")\n",
    "print(products_df.isnull().sum())"
   ]
  },
  {
   "cell_type": "code",
   "execution_count": 135,
   "id": "96dd688e",
   "metadata": {},
   "outputs": [
    {
     "name": "stdout",
     "output_type": "stream",
     "text": [
      "\n",
      "Missing values in products_df after imputing numerical columns:\n",
      "product_id                    0\n",
      "product_category_name         0\n",
      "product_name_length           0\n",
      "product_description_length    0\n",
      "product_photos_qty            0\n",
      "product_weight_g              0\n",
      "product_length_cm             0\n",
      "product_height_cm             0\n",
      "product_width_cm              0\n",
      "dtype: int64\n"
     ]
    }
   ],
   "source": [
    "# Calculate the median of 'product_name_length', 'product_description_length', 'product_photos_qty', 'product_weight_g', 'product_length_cm', 'product_height_cm', and 'product_width_cm'\n",
    "median_name_length = products_df['product_name_length'].median()\n",
    "median_description_length = products_df['product_description_length'].median()\n",
    "median_photos_qty = products_df['product_photos_qty'].median()\n",
    "median_weight_g = products_df['product_weight_g'].median()\n",
    "median_length_cm = products_df['product_length_cm'].median()\n",
    "median_height_cm = products_df['product_height_cm'].median()\n",
    "median_width_cm = products_df['product_width_cm'].median()\n",
    "\n",
    "\n",
    "# Impute missing values in 'product_name_length', 'product_description_length', and 'product_photos_qty' with their medians\n",
    "products_df['product_name_length'] = products_df['product_name_length'].fillna(median_name_length)\n",
    "products_df['product_description_length'] = products_df['product_description_length'].fillna(median_description_length)\n",
    "products_df['product_photos_qty'] = products_df['product_photos_qty'].fillna(median_photos_qty)\n",
    "\n",
    "# Impute missing values in 'product_weight_g', 'product_length_cm', 'product_height_cm', and 'product_width_cm' with their medians\n",
    "products_df['product_weight_g'] = products_df['product_weight_g'].fillna(median_weight_g)\n",
    "products_df['product_length_cm'] = products_df['product_length_cm'].fillna(median_length_cm)\n",
    "products_df['product_height_cm'] = products_df['product_height_cm'].fillna(median_height_cm)\n",
    "products_df['product_width_cm'] = products_df['product_width_cm'].fillna(median_width_cm)\n",
    "\n",
    "\n",
    "# Verify that missing values in 'product_name_length' have been handled\n",
    "print(\"\\nMissing values in products_df after imputing numerical columns:\")\n",
    "print(products_df.isnull().sum())"
   ]
  },
  {
   "cell_type": "code",
   "execution_count": 136,
   "id": "dbdb0167",
   "metadata": {},
   "outputs": [
    {
     "name": "stdout",
     "output_type": "stream",
     "text": [
      "Duplicated values in order_reviews_df: 0\n",
      "Duplicated values in order_reviews_df['product_id']: 0\n"
     ]
    }
   ],
   "source": [
    "# Duplicated Values\n",
    "print(f\"Duplicated values in order_reviews_df: {products_df.duplicated().sum()}\")\n",
    "print(f\"Duplicated values in order_reviews_df['product_id']: {products_df['product_id'].duplicated().sum()}\")"
   ]
  },
  {
   "cell_type": "code",
   "execution_count": 137,
   "id": "a532845a",
   "metadata": {},
   "outputs": [
    {
     "name": "stdout",
     "output_type": "stream",
     "text": [
      "Numerical columns in order_items_df: Index(['product_name_length', 'product_description_length',\n",
      "       'product_photos_qty', 'product_weight_g', 'product_length_cm',\n",
      "       'product_height_cm', 'product_width_cm'],\n",
      "      dtype='object')\n",
      "\n",
      "--- Outlier Analysis for column: product_name_length ---\n"
     ]
    },
    {
     "data": {
      "image/png": "[encoded data removed]",
      "text/plain": [
       "<Figure size 800x400 with 1 Axes>"
      ]
     },
     "metadata": {},
     "output_type": "display_data"
    },
    {
     "name": "stdout",
     "output_type": "stream",
     "text": [
      "  Number of outliers: 290\n",
      "  Percentage of outliers: 0.88%\n",
      "  Lower bound (IQR): 19.50\n",
      "  Upper bound (IQR): 79.50\n",
      "\n",
      "--- Outlier Analysis for column: product_description_length ---\n"
     ]
    },
    {
     "data": {
      "image/png": "[encoded data removed]",
      "text/plain": [
       "<Figure size 800x400 with 1 Axes>"
      ]
     },
     "metadata": {},
     "output_type": "display_data"
    },
    {
     "name": "stdout",
     "output_type": "stream",
     "text": [
      "  Number of outliers: 2174\n",
      "  Percentage of outliers: 6.60%\n",
      "  Lower bound (IQR): -581.50\n",
      "  Upper bound (IQR): 1886.50\n",
      "\n",
      "--- Outlier Analysis for column: product_photos_qty ---\n"
     ]
    },
    {
     "data": {
      "image/png": "[encoded data removed]",
      "text/plain": [
       "<Figure size 800x400 with 1 Axes>"
      ]
     },
     "metadata": {},
     "output_type": "display_data"
    },
    {
     "name": "stdout",
     "output_type": "stream",
     "text": [
      "  Number of outliers: 849\n",
      "  Percentage of outliers: 2.58%\n",
      "  Lower bound (IQR): -2.00\n",
      "  Upper bound (IQR): 6.00\n",
      "\n",
      "--- Outlier Analysis for column: product_weight_g ---\n"
     ]
    },
    {
     "data": {
      "image/png": "[encoded data removed]",
      "text/plain": [
       "<Figure size 800x400 with 1 Axes>"
      ]
     },
     "metadata": {},
     "output_type": "display_data"
    },
    {
     "name": "stdout",
     "output_type": "stream",
     "text": [
      "  Number of outliers: 4551\n",
      "  Percentage of outliers: 13.81%\n",
      "  Lower bound (IQR): -2100.00\n",
      "  Upper bound (IQR): 4300.00\n",
      "\n",
      "--- Outlier Analysis for column: product_length_cm ---\n"
     ]
    },
    {
     "data": {
      "image/png": "[encoded data removed]",
      "text/plain": [
       "<Figure size 800x400 with 1 Axes>"
      ]
     },
     "metadata": {},
     "output_type": "display_data"
    },
    {
     "name": "stdout",
     "output_type": "stream",
     "text": [
      "  Number of outliers: 1380\n",
      "  Percentage of outliers: 4.19%\n",
      "  Lower bound (IQR): -12.00\n",
      "  Upper bound (IQR): 68.00\n",
      "\n",
      "--- Outlier Analysis for column: product_height_cm ---\n"
     ]
    },
    {
     "data": {
      "image/png": "[encoded data removed]",
      "text/plain": [
       "<Figure size 800x400 with 1 Axes>"
      ]
     },
     "metadata": {},
     "output_type": "display_data"
    },
    {
     "name": "stdout",
     "output_type": "stream",
     "text": [
      "  Number of outliers: 1892\n",
      "  Percentage of outliers: 5.74%\n",
      "  Lower bound (IQR): -11.50\n",
      "  Upper bound (IQR): 40.50\n",
      "\n",
      "--- Outlier Analysis for column: product_width_cm ---\n"
     ]
    },
    {
     "data": {
      "image/png": "[encoded data removed]",
      "text/plain": [
       "<Figure size 800x400 with 1 Axes>"
      ]
     },
     "metadata": {},
     "output_type": "display_data"
    },
    {
     "name": "stdout",
     "output_type": "stream",
     "text": [
      "  Number of outliers: 912\n",
      "  Percentage of outliers: 2.77%\n",
      "  Lower bound (IQR): -7.50\n",
      "  Upper bound (IQR): 52.50\n"
     ]
    }
   ],
   "source": [
    "# Identify numerical columns in order_items_df\n",
    "numerical_cols_items = products_df.select_dtypes(include=np.number).columns\n",
    "\n",
    "print(\"Numerical columns in order_items_df:\", numerical_cols_items)\n",
    "\n",
    "# Apply outlier detection and plotting for each numerical column\n",
    "for col in numerical_cols_items:\n",
    "    detect_and_plot_outliers_iqr(products_df, col)"
   ]
  },
  {
   "cell_type": "code",
   "execution_count": 138,
   "id": "e9175f39",
   "metadata": {},
   "outputs": [
    {
     "name": "stdout",
     "output_type": "stream",
     "text": [
      "Log-transformed columns for weight and volume have been created.\n",
      "Product description length will be capped at: 3274 characters.\n",
      "Capped column for description length has been created.\n",
      "No changes made to 'product_photos_qty' or 'product_name_length'.\n",
      "\n",
      "DataFrame with new transformed/capped columns:\n"
     ]
    },
    {
     "data": {
      "text/html": [
       "<div>\n",
       "<style scoped>\n",
       "    .dataframe tbody tr th:only-of-type {\n",
       "        vertical-align: middle;\n",
       "    }\n",
       "\n",
       "    .dataframe tbody tr th {\n",
       "        vertical-align: top;\n",
       "    }\n",
       "\n",
       "    .dataframe thead th {\n",
       "        text-align: right;\n",
       "    }\n",
       "</style>\n",
       "<table border=\"1\" class=\"dataframe\">\n",
       "  <thead>\n",
       "    <tr style=\"text-align: right;\">\n",
       "      <th></th>\n",
       "      <th>product_weight_g</th>\n",
       "      <th>product_weight_g_log</th>\n",
       "      <th>product_volume_cm3</th>\n",
       "      <th>product_volume_cm3_log</th>\n",
       "      <th>product_description_length</th>\n",
       "      <th>product_description_length_capped</th>\n",
       "    </tr>\n",
       "  </thead>\n",
       "  <tbody>\n",
       "    <tr>\n",
       "      <th>0</th>\n",
       "      <td>225.0</td>\n",
       "      <td>5.420535</td>\n",
       "      <td>2240.0</td>\n",
       "      <td>7.714677</td>\n",
       "      <td>287.0</td>\n",
       "      <td>287.0</td>\n",
       "    </tr>\n",
       "    <tr>\n",
       "      <th>1</th>\n",
       "      <td>1000.0</td>\n",
       "      <td>6.908755</td>\n",
       "      <td>10800.0</td>\n",
       "      <td>9.287394</td>\n",
       "      <td>276.0</td>\n",
       "      <td>276.0</td>\n",
       "    </tr>\n",
       "    <tr>\n",
       "      <th>2</th>\n",
       "      <td>154.0</td>\n",
       "      <td>5.043425</td>\n",
       "      <td>2430.0</td>\n",
       "      <td>7.796058</td>\n",
       "      <td>250.0</td>\n",
       "      <td>250.0</td>\n",
       "    </tr>\n",
       "    <tr>\n",
       "      <th>3</th>\n",
       "      <td>371.0</td>\n",
       "      <td>5.918894</td>\n",
       "      <td>2704.0</td>\n",
       "      <td>7.902857</td>\n",
       "      <td>261.0</td>\n",
       "      <td>261.0</td>\n",
       "    </tr>\n",
       "    <tr>\n",
       "      <th>4</th>\n",
       "      <td>625.0</td>\n",
       "      <td>6.439350</td>\n",
       "      <td>4420.0</td>\n",
       "      <td>8.394121</td>\n",
       "      <td>402.0</td>\n",
       "      <td>402.0</td>\n",
       "    </tr>\n",
       "  </tbody>\n",
       "</table>\n",
       "</div>"
      ],
      "text/plain": [
       "   product_weight_g  product_weight_g_log  product_volume_cm3  \\\n",
       "0             225.0              5.420535              2240.0   \n",
       "1            1000.0              6.908755             10800.0   \n",
       "2             154.0              5.043425              2430.0   \n",
       "3             371.0              5.918894              2704.0   \n",
       "4             625.0              6.439350              4420.0   \n",
       "\n",
       "   product_volume_cm3_log  product_description_length  \\\n",
       "0                7.714677                       287.0   \n",
       "1                9.287394                       276.0   \n",
       "2                7.796058                       250.0   \n",
       "3                7.902857                       261.0   \n",
       "4                8.394121                       402.0   \n",
       "\n",
       "   product_description_length_capped  \n",
       "0                              287.0  \n",
       "1                              276.0  \n",
       "2                              250.0  \n",
       "3                              261.0  \n",
       "4                              402.0  "
      ]
     },
     "metadata": {},
     "output_type": "display_data"
    }
   ],
   "source": [
    "products_df['product_weight_g_log'] = np.log1p(products_df['product_weight_g'])\n",
    "\n",
    "# Optional but recommended: Create and transform volume\n",
    "products_df['product_volume_cm3'] = products_df['product_length_cm'] * products_df['product_height_cm'] * products_df['product_width_cm']\n",
    "products_df['product_volume_cm3_log'] = np.log1p(products_df['product_volume_cm3'])\n",
    "\n",
    "print(\"Log-transformed columns for weight and volume have been created.\")\n",
    "\n",
    "# --- 2. Cap the Product Description Length ---\n",
    "# Calculate the 99th percentile\n",
    "desc_len_cap = products_df['product_description_length'].quantile(0.99)\n",
    "print(f\"Product description length will be capped at: {desc_len_cap:.0f} characters.\")\n",
    "\n",
    "# Create a new capped column\n",
    "products_df['product_description_length_capped'] = products_df['product_description_length'].clip(upper=desc_len_cap)\n",
    "\n",
    "print(\"Capped column for description length has been created.\")\n",
    "\n",
    "# --- 3. Do Nothing for Photos Qty and Name Length ---\n",
    "print(\"No changes made to 'product_photos_qty' or 'product_name_length'.\")\n",
    "\n",
    "# Display the new columns\n",
    "print(\"\\nDataFrame with new transformed/capped columns:\")\n",
    "display(products_df[['product_weight_g', 'product_weight_g_log', 'product_volume_cm3', 'product_volume_cm3_log', 'product_description_length', 'product_description_length_capped']].head())\n"
   ]
  },
  {
   "cell_type": "code",
   "execution_count": 147,
   "id": "bfc69be6",
   "metadata": {},
   "outputs": [],
   "source": [
    "order_reviews_df.to_parquet(\"olist_products_cleaned_dataset.parquet\", index=False)"
   ]
  },
  {
   "cell_type": "markdown",
   "id": "8916e98c",
   "metadata": {},
   "source": [
    "Observations\n",
    "* The dataset includes product identifiers, product categories (in Portuguese), and physical attributes such as length, height, width, and weight.\n",
    "* Around 1.85% of entries have missing values in category and product description-related columns, should be addressed by filling it with either unknown or with median values.\n",
    "* Only a negligible number of missing values are present in the physical dimension columns.\n",
    "* Some products share the same category ID, which will be translated into English using the product_category dataset.\n",
    "* Product dimensions and weight will be valuable for analyzing shipping costs and understanding product characteristics in later EDA."
   ]
  },
  {
   "cell_type": "markdown",
   "id": "15dbfb7f",
   "metadata": {},
   "source": [
    "### Processing the `olist_geolocation_dataset.csv`, this includes checking for null/missing values, ensuring all datatypes are correctly assigned to the columns, checking for duplicate values and checking for outliers."
   ]
  },
  {
   "cell_type": "code",
   "execution_count": 140,
   "id": "d103e68c",
   "metadata": {},
   "outputs": [
    {
     "data": {
      "text/html": [
       "<div>\n",
       "<style scoped>\n",
       "    .dataframe tbody tr th:only-of-type {\n",
       "        vertical-align: middle;\n",
       "    }\n",
       "\n",
       "    .dataframe tbody tr th {\n",
       "        vertical-align: top;\n",
       "    }\n",
       "\n",
       "    .dataframe thead th {\n",
       "        text-align: right;\n",
       "    }\n",
       "</style>\n",
       "<table border=\"1\" class=\"dataframe\">\n",
       "  <thead>\n",
       "    <tr style=\"text-align: right;\">\n",
       "      <th></th>\n",
       "      <th>geolocation_zip_code_prefix</th>\n",
       "      <th>geolocation_lat</th>\n",
       "      <th>geolocation_lng</th>\n",
       "      <th>geolocation_city</th>\n",
       "      <th>geolocation_state</th>\n",
       "    </tr>\n",
       "  </thead>\n",
       "  <tbody>\n",
       "    <tr>\n",
       "      <th>0</th>\n",
       "      <td>1037</td>\n",
       "      <td>-23.545621</td>\n",
       "      <td>-46.639292</td>\n",
       "      <td>sao paulo</td>\n",
       "      <td>SP</td>\n",
       "    </tr>\n",
       "    <tr>\n",
       "      <th>1</th>\n",
       "      <td>1046</td>\n",
       "      <td>-23.546081</td>\n",
       "      <td>-46.644820</td>\n",
       "      <td>sao paulo</td>\n",
       "      <td>SP</td>\n",
       "    </tr>\n",
       "    <tr>\n",
       "      <th>2</th>\n",
       "      <td>1046</td>\n",
       "      <td>-23.546129</td>\n",
       "      <td>-46.642951</td>\n",
       "      <td>sao paulo</td>\n",
       "      <td>SP</td>\n",
       "    </tr>\n",
       "    <tr>\n",
       "      <th>3</th>\n",
       "      <td>1041</td>\n",
       "      <td>-23.544392</td>\n",
       "      <td>-46.639499</td>\n",
       "      <td>sao paulo</td>\n",
       "      <td>SP</td>\n",
       "    </tr>\n",
       "    <tr>\n",
       "      <th>4</th>\n",
       "      <td>1035</td>\n",
       "      <td>-23.541578</td>\n",
       "      <td>-46.641607</td>\n",
       "      <td>sao paulo</td>\n",
       "      <td>SP</td>\n",
       "    </tr>\n",
       "  </tbody>\n",
       "</table>\n",
       "</div>"
      ],
      "text/plain": [
       "   geolocation_zip_code_prefix  geolocation_lat  geolocation_lng  \\\n",
       "0                         1037       -23.545621       -46.639292   \n",
       "1                         1046       -23.546081       -46.644820   \n",
       "2                         1046       -23.546129       -46.642951   \n",
       "3                         1041       -23.544392       -46.639499   \n",
       "4                         1035       -23.541578       -46.641607   \n",
       "\n",
       "  geolocation_city geolocation_state  \n",
       "0        sao paulo                SP  \n",
       "1        sao paulo                SP  \n",
       "2        sao paulo                SP  \n",
       "3        sao paulo                SP  \n",
       "4        sao paulo                SP  "
      ]
     },
     "execution_count": 140,
     "metadata": {},
     "output_type": "execute_result"
    }
   ],
   "source": [
    "# Load the geolocation dataset\n",
    "geolocation_dataset_path = os.path.join(path, \"olist_geolocation_dataset.csv\")\n",
    "geolocation_df = pd.read_csv(geolocation_dataset_path)\n",
    "\n",
    "# Display the first few rows of the DataFrame\n",
    "geolocation_df.head()"
   ]
  },
  {
   "cell_type": "code",
   "execution_count": 141,
   "id": "8676e8c2",
   "metadata": {},
   "outputs": [
    {
     "name": "stdout",
     "output_type": "stream",
     "text": [
      "<class 'pandas.core.frame.DataFrame'>\n",
      "RangeIndex: 1000163 entries, 0 to 1000162\n",
      "Data columns (total 5 columns):\n",
      " #   Column                       Non-Null Count    Dtype  \n",
      "---  ------                       --------------    -----  \n",
      " 0   geolocation_zip_code_prefix  1000163 non-null  int64  \n",
      " 1   geolocation_lat              1000163 non-null  float64\n",
      " 2   geolocation_lng              1000163 non-null  float64\n",
      " 3   geolocation_city             1000163 non-null  object \n",
      " 4   geolocation_state            1000163 non-null  object \n",
      "dtypes: float64(2), int64(1), object(2)\n",
      "memory usage: 38.2+ MB\n",
      "\n",
      "Missing values in geolocation_df:\n",
      "geolocation_zip_code_prefix    0\n",
      "geolocation_lat                0\n",
      "geolocation_lng                0\n",
      "geolocation_city               0\n",
      "geolocation_state              0\n",
      "dtype: int64\n"
     ]
    }
   ],
   "source": [
    "# Get information about the geolocation_df DataFrame\n",
    "geolocation_df_info = geolocation_df.info()\n",
    "\n",
    "# Display missing values information\n",
    "print(\"\\nMissing values in geolocation_df:\")\n",
    "print(geolocation_df.isnull().sum())"
   ]
  },
  {
   "cell_type": "code",
   "execution_count": 142,
   "id": "49badbd3",
   "metadata": {},
   "outputs": [
    {
     "name": "stdout",
     "output_type": "stream",
     "text": [
      "Number of duplicated rows in geolocation_df: 261831\n"
     ]
    }
   ],
   "source": [
    "# Check for duplicated rows in the geolocation_df\n",
    "print(f\"Number of duplicated rows in geolocation_df: {geolocation_df.duplicated().sum()}\")"
   ]
  },
  {
   "cell_type": "code",
   "execution_count": 143,
   "id": "27453b09",
   "metadata": {},
   "outputs": [
    {
     "name": "stdout",
     "output_type": "stream",
     "text": [
      "Number of duplicated rows based on zip code, lat, and lng after removing duplicates: 0\n"
     ]
    }
   ],
   "source": [
    "# Remove duplicate rows based on the subset of specified columns\n",
    "geolocation_df.drop_duplicates(subset=['geolocation_zip_code_prefix', 'geolocation_lat', 'geolocation_lng'], keep='first', inplace=True)\n",
    "\n",
    "# Verify that duplicates based on the subset have been removed\n",
    "print(f\"Number of duplicated rows based on zip code, lat, and lng after removing duplicates: {geolocation_df.duplicated(subset=['geolocation_zip_code_prefix', 'geolocation_lat', 'geolocation_lng']).sum()}\")"
   ]
  },
  {
   "cell_type": "code",
   "execution_count": null,
   "id": "4083ecaf",
   "metadata": {},
   "outputs": [],
   "source": [
    "# Identify numerical columns in order_items_df\n",
    "numerical_cols_items = geolocation_df.select_dtypes(include=np.number).columns\n",
    "\n",
    "print(\"Numerical columns in order_items_df:\", numerical_cols_items)\n",
    "\n",
    "# Apply outlier detection and plotting for each numerical column\n",
    "for col in numerical_cols_items:\n",
    "    detect_and_plot_outliers_iqr(geolocation_df, col)"
   ]
  },
  {
   "cell_type": "code",
   "execution_count": null,
   "id": "8b983928",
   "metadata": {},
   "outputs": [],
   "source": [
    "# Define the approximate geographical boundaries for Brazil\n",
    "LAT_MIN, LAT_MAX = -34, 6\n",
    "LON_MIN, LON_MAX = -74, -34\n",
    "\n",
    "# Find coordinates that fall outside these boundaries\n",
    "geo_outliers = geolocation_df[\n",
    "    (geolocation_df['geolocation_lat'] < LAT_MIN) | (geolocation_df['geolocation_lat'] > LAT_MAX) |\n",
    "    (geolocation_df['geolocation_lng'] < LON_MIN) | (geolocation_df['geolocation_lng'] > LON_MAX)\n",
    "]\n",
    "\n",
    "num_outliers = len(geo_outliers)\n",
    "\n",
    "if num_outliers > 0:\n",
    "    print(f\"--- Geographic Outlier Analysis ---\")\n",
    "    print(f\"Found {num_outliers} coordinates outside the plausible boundaries of Brazil.\")\n",
    "    print(\"\\nDisplaying some of the detected outliers:\")\n",
    "    display(geo_outliers)\n",
    "\n",
    "    geolocation_df_cleaned = geolocation_df.drop(geo_outliers.index)\n",
    "    print(f\"\\n{num_outliers} outlier rows have been removed.\")\n",
    "\n",
    "else:\n",
    "    print(\"No geographic outliers found outside the plausible boundaries of Brazil.\")\n"
   ]
  },
  {
   "cell_type": "code",
   "execution_count": 146,
   "id": "a5a8e228",
   "metadata": {},
   "outputs": [],
   "source": [
    "order_reviews_df.to_parquet(\"olist_geolocation_cleaned_dataset.parquet\", index=False)"
   ]
  },
  {
   "cell_type": "markdown",
   "id": "ab8f5382",
   "metadata": {},
   "source": [
    "Observations:\n",
    "* Each zip code prefix is associated with one city and one state.\n",
    "* This dataset enables mapping customer and seller locations geographically.\n",
    "* Unique states provide insights into regional coverage and potential logistics challenges."
   ]
  },
  {
   "cell_type": "markdown",
   "id": "5260b463",
   "metadata": {},
   "source": [
    "### Processing the `product_category_name_translation_dataset.csv`, this includes checking for null/missing values, ensuring all datatypes are correctly assigned to the columns, checking for duplicate values and checking for outliers."
   ]
  },
  {
   "cell_type": "code",
   "execution_count": 148,
   "id": "d87f464c",
   "metadata": {},
   "outputs": [
    {
     "data": {
      "text/html": [
       "<div>\n",
       "<style scoped>\n",
       "    .dataframe tbody tr th:only-of-type {\n",
       "        vertical-align: middle;\n",
       "    }\n",
       "\n",
       "    .dataframe tbody tr th {\n",
       "        vertical-align: top;\n",
       "    }\n",
       "\n",
       "    .dataframe thead th {\n",
       "        text-align: right;\n",
       "    }\n",
       "</style>\n",
       "<table border=\"1\" class=\"dataframe\">\n",
       "  <thead>\n",
       "    <tr style=\"text-align: right;\">\n",
       "      <th></th>\n",
       "      <th>product_category_name</th>\n",
       "      <th>product_category_name_english</th>\n",
       "    </tr>\n",
       "  </thead>\n",
       "  <tbody>\n",
       "    <tr>\n",
       "      <th>0</th>\n",
       "      <td>beleza_saude</td>\n",
       "      <td>health_beauty</td>\n",
       "    </tr>\n",
       "    <tr>\n",
       "      <th>1</th>\n",
       "      <td>informatica_acessorios</td>\n",
       "      <td>computers_accessories</td>\n",
       "    </tr>\n",
       "    <tr>\n",
       "      <th>2</th>\n",
       "      <td>automotivo</td>\n",
       "      <td>auto</td>\n",
       "    </tr>\n",
       "    <tr>\n",
       "      <th>3</th>\n",
       "      <td>cama_mesa_banho</td>\n",
       "      <td>bed_bath_table</td>\n",
       "    </tr>\n",
       "    <tr>\n",
       "      <th>4</th>\n",
       "      <td>moveis_decoracao</td>\n",
       "      <td>furniture_decor</td>\n",
       "    </tr>\n",
       "  </tbody>\n",
       "</table>\n",
       "</div>"
      ],
      "text/plain": [
       "    product_category_name product_category_name_english\n",
       "0            beleza_saude                 health_beauty\n",
       "1  informatica_acessorios         computers_accessories\n",
       "2              automotivo                          auto\n",
       "3         cama_mesa_banho                bed_bath_table\n",
       "4        moveis_decoracao               furniture_decor"
      ]
     },
     "execution_count": 148,
     "metadata": {},
     "output_type": "execute_result"
    }
   ],
   "source": [
    "# Load the product category name translation dataset\n",
    "category_name_translation_dataset_path = os.path.join(path, \"product_category_name_translation.csv\")\n",
    "category_name_translation_df = pd.read_csv(category_name_translation_dataset_path)\n",
    "\n",
    "# Display the entire DataFrame\n",
    "category_name_translation_df.head()"
   ]
  },
  {
   "cell_type": "code",
   "execution_count": null,
   "id": "1412f1f9",
   "metadata": {},
   "outputs": [],
   "source": [
    "# Get information about the category_name_translation_df DataFrame\n",
    "print(category_name_translation_df.info())\n",
    "\n",
    "# Display missing values information\n",
    "print(\"\\nMissing values in category_name_translation_df:\")\n",
    "print(category_name_translation_df.isnull().sum())"
   ]
  },
  {
   "cell_type": "code",
   "execution_count": null,
   "id": "ab23c7a0",
   "metadata": {},
   "outputs": [],
   "source": [
    "print(f\"Duplicated values in category_name_translation_df: {category_name_translation_df.duplicated().sum()}\")\n",
    "print(f\"Duplicated values in category_name_translation_df['product_category_name']: {category_name_translation_df['product_category_name'].duplicated().sum()}\")"
   ]
  },
  {
   "cell_type": "code",
   "execution_count": 149,
   "id": "7f896194",
   "metadata": {},
   "outputs": [],
   "source": [
    "order_reviews_df.to_parquet(\"category_name_translation_cleaned_dataset.parquet\", index=False)"
   ]
  },
  {
   "cell_type": "markdown",
   "id": "185333d4",
   "metadata": {},
   "source": [
    "Observations:\n",
    "* The dataset contains two columns: the original Portuguese category names and their English translations.\n",
    "* There are no missing values and duplicate values.\n",
    "* This will allow us to join with the products dataset to translate product categories for better readability in analysis."
   ]
  },
  {
   "cell_type": "markdown",
   "id": "69cdfb5a",
   "metadata": {},
   "source": [
    "### Processing the `olist_orders_dataset.csv`, this includes checking for null/missing values, ensuring all datatypes are correctly assigned to the columns, checking for duplicate values and checking for outliers."
   ]
  },
  {
   "cell_type": "code",
   "execution_count": null,
   "id": "c4b3998b",
   "metadata": {},
   "outputs": [],
   "source": [
    "# Load the orders dataset\n",
    "orders_dataset_path = os.path.join(path, \"olist_orders_dataset.csv\")\n",
    "orders_df = pd.read_csv(orders_dataset_path)\n",
    "\n",
    "# Display the first few rows of the DataFrame\n",
    "orders_df.head()"
   ]
  }
 ],
 "metadata": {
  "kernelspec": {
   "display_name": ".env",
   "language": "python",
   "name": "python3"
  },
  "language_info": {
   "codemirror_mode": {
    "name": "ipython",
    "version": 3
   },
   "file_extension": ".py",
   "mimetype": "text/x-python",
   "name": "python",
   "nbconvert_exporter": "python",
   "pygments_lexer": "ipython3",
   "version": "3.13.5"
  }
 },
 "nbformat": 4,
 "nbformat_minor": 5
}
